{
 "cells": [
  {
   "cell_type": "markdown",
   "metadata": {},
   "source": [
    "# DAY 6 ASSIGNMENTS"
   ]
  },
  {
   "cell_type": "markdown",
   "metadata": {},
   "source": [
    "# DAY 6 ASSIGNMENT 1"
   ]
  },
  {
   "cell_type": "markdown",
   "metadata": {},
   "source": [
    "For this challenge, create a bank account class that has two attributes\n",
    "*ownerName\n",
    "*Balance\n",
    "and two methods\n",
    "*deposit\n",
    "*withdrawal\n",
    "\n",
    "For added requirement, withdrawals may not exceed the available balance.\n",
    "\n",
    "Instantiate your class, make several deposits and withdrawals, and test to make sure the account cant be overdrawn."
   ]
  },
  {
   "cell_type": "code",
   "execution_count": 1,
   "metadata": {},
   "outputs": [],
   "source": [
    "class bankAccount() :\n",
    "    ownerName = \"\"\n",
    "    balance = 0.00\n",
    "    \n",
    "    def __init__(self, ownerName, balance) :\n",
    "        self.ownerName = ownerName\n",
    "        self.balance = balance\n",
    "        \n",
    "    def deposit(self, deposit_amount) :\n",
    "        print (\"This is Deposit\")\n",
    "        self.balance = self.balance + deposit_amount\n",
    "        print (\"The available balance is \", self.balance)\n",
    "\n",
    "    def withdraw(self, withdraw_amount) :\n",
    "        print (\"This is Withdraw\")\n",
    "        if withdraw_amount > self.balance:\n",
    "            print (\"Withdraw amount\", withdraw_amount, \"can not be more than the available balance\", self.balance)\n",
    "        else :\n",
    "            print (\"Transaction Success\")\n",
    "            self.balance = self.balance - withdraw_amount\n",
    "            print (\"The available balance is \", self.balance)"
   ]
  },
  {
   "cell_type": "code",
   "execution_count": 8,
   "metadata": {},
   "outputs": [],
   "source": [
    "User1 = bankAccount(\"User One\", 1000)"
   ]
  },
  {
   "cell_type": "code",
   "execution_count": 9,
   "metadata": {},
   "outputs": [
    {
     "data": {
      "text/plain": [
       "1000"
      ]
     },
     "execution_count": 9,
     "metadata": {},
     "output_type": "execute_result"
    }
   ],
   "source": [
    "User1.balance"
   ]
  },
  {
   "cell_type": "code",
   "execution_count": 10,
   "metadata": {},
   "outputs": [
    {
     "name": "stdout",
     "output_type": "stream",
     "text": [
      "This is Deposit\n",
      "The available balance is  3000\n"
     ]
    }
   ],
   "source": [
    "User1.deposit(2000)"
   ]
  },
  {
   "cell_type": "code",
   "execution_count": 11,
   "metadata": {},
   "outputs": [
    {
     "name": "stdout",
     "output_type": "stream",
     "text": [
      "This is Withdraw\n",
      "Transaction Success\n",
      "The available balance is  2500\n"
     ]
    }
   ],
   "source": [
    "User1.withdraw(500)"
   ]
  },
  {
   "cell_type": "code",
   "execution_count": 12,
   "metadata": {},
   "outputs": [
    {
     "name": "stdout",
     "output_type": "stream",
     "text": [
      "This is Withdraw\n",
      "Withdraw amount 2501 can not be more than the available balance 2500\n"
     ]
    }
   ],
   "source": [
    "User1.withdraw(2501)"
   ]
  },
  {
   "cell_type": "code",
   "execution_count": 13,
   "metadata": {},
   "outputs": [
    {
     "name": "stdout",
     "output_type": "stream",
     "text": [
      "This is Withdraw\n",
      "Transaction Success\n",
      "The available balance is  0\n"
     ]
    }
   ],
   "source": [
    "User1.withdraw(2500)"
   ]
  }
 ],
 "metadata": {
  "kernelspec": {
   "display_name": "Python 3",
   "language": "python",
   "name": "python3"
  },
  "language_info": {
   "codemirror_mode": {
    "name": "ipython",
    "version": 3
   },
   "file_extension": ".py",
   "mimetype": "text/x-python",
   "name": "python",
   "nbconvert_exporter": "python",
   "pygments_lexer": "ipython3",
   "version": "3.7.6"
  }
 },
 "nbformat": 4,
 "nbformat_minor": 4
}
